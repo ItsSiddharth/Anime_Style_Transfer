{
  "nbformat": 4,
  "nbformat_minor": 0,
  "metadata": {
    "colab": {
      "name": "Anime_Style_Transfer.ipynb",
      "provenance": [],
      "collapsed_sections": [],
      "machine_shape": "hm"
    },
    "kernelspec": {
      "name": "python3",
      "display_name": "Python 3"
    },
    "accelerator": "GPU"
  },
  "cells": [
    {
      "cell_type": "code",
      "metadata": {
        "id": "jJGPwXIvzrjD",
        "colab_type": "code",
        "colab": {}
      },
      "source": [
        "import os\n",
        "os.environ['TF_CPP_MIN_LOG_LEVEL'] = '2'\n",
        "import tensorflow as tf\n",
        "from tensorflow.keras.models import Sequential, Model\n",
        "from tensorflow.keras.layers import Conv2D, AveragePooling2D, UpSampling2D, Input, Flatten, Dense, Reshape, BatchNormalization, LeakyReLU\n",
        "from tensorflow.keras.optimizers import Adam\n",
        "\n",
        "\n",
        "import cv2\n",
        "import numpy as np\n",
        "import matplotlib.pyplot as plt\n",
        "import PIL\n",
        "from skimage import color\n",
        "from skimage import io\n",
        "from skimage.transform import resize\n",
        "import time\n",
        "from IPython import display"
      ],
      "execution_count": 0,
      "outputs": []
    },
    {
      "cell_type": "code",
      "metadata": {
        "id": "EoPT2ADHnEy1",
        "colab_type": "code",
        "colab": {}
      },
      "source": [
        "def vgg_global_style(layer_name):\n",
        "  vgg = tf.keras.applications.VGG19(include_top=True, weights=None)\n",
        "  vgg.load_weights('/content/drive/My Drive/Dataset/vgg19_weights_tf_dim_ordering_tf_kernels.h5')\n",
        "  vgg.trainable = False\n",
        "  outputs = vgg.get_layer(layer_name).output\n",
        "  model = tf.keras.Model([vgg.input], outputs)\n",
        "  return model"
      ],
      "execution_count": 0,
      "outputs": []
    },
    {
      "cell_type": "code",
      "metadata": {
        "id": "OQnIxsfInH2e",
        "colab_type": "code",
        "outputId": "aabbca57-0028-435b-f5a7-40cb9fe240d3",
        "colab": {
          "base_uri": "https://localhost:8080/",
          "height": 34
        }
      },
      "source": [
        "vgg_model = vgg_global_style('fc1')\n",
        "print(vgg_model.output_shape)\n",
        "###### FEED FORWARD TEST ###########\n",
        "# real_image = np.array(PIL.Image.open(\"/content/danbooru_2897927_a39fedcea885102ef9781a78d9a9bc45.jpg\").resize((224,224)), dtype=float)\n",
        "# real_image = np.array([real_image])\n",
        "# output_test = vgg_model(real_image)\n",
        "# output_test = np.array([output_test])\n",
        "# print(output_test.shape)"
      ],
      "execution_count": 3,
      "outputs": [
        {
          "output_type": "stream",
          "text": [
            "(None, 4096)\n"
          ],
          "name": "stdout"
        }
      ]
    },
    {
      "cell_type": "code",
      "metadata": {
        "id": "zMx7dj780Igl",
        "colab_type": "code",
        "colab": {}
      },
      "source": [
        "def generator(pretrained_weights=None, input_size=(256,256,1), vgg_style_size=(1, 1, 4096)):\n",
        "  inputs = Input(input_size, name='main_input')\n",
        "  global_style_hint = Input(vgg_style_size, name='style_input')\n",
        "  global_style_hint_dense = Dense(2048, kernel_initializer='he_normal', name='dense_style')(global_style_hint)\n",
        "  # global_dense_activ = LeakyReLU()(global_style_hint_dense)\n",
        "  # style_normalise_reshape = Reshape((1, 1, 2048))(global_style_hint_dense)\n",
        "  # print(global_style_hint_cover.shape)\n",
        "\n",
        "  ###### U-net Encoder ######\n",
        "  conv1 = Conv2D(16, 1, padding='same', kernel_initializer='he_normal', name='conv1')(inputs)\n",
        "  activ1 = LeakyReLU()(conv1)\n",
        "  conv1 = Conv2D(16, 1, padding='same', kernel_initializer='he_normal', name='conv1_1')(activ1)\n",
        "  activ1 = LeakyReLU()(conv1)\n",
        "  pool1 = AveragePooling2D(pool_size=(2,2), strides=2, name='pool1')(activ1)\n",
        "\n",
        "  conv2 = Conv2D(32, 1, padding='same', kernel_initializer='he_normal', name='conv2')(pool1)\n",
        "  activ2 = LeakyReLU()(conv2)\n",
        "  conv2 = Conv2D(32, 1, padding='same', kernel_initializer='he_normal', name='conv2_1')(activ2)\n",
        "  activ2 = LeakyReLU()(conv2)\n",
        "  pool2 = AveragePooling2D(pool_size=(2,2), strides=2, name='pool2')(activ2)\n",
        "\n",
        "  conv3 = Conv2D(64, 1, padding='same', kernel_initializer='he_normal', name='conv3')(pool2)\n",
        "  activ3 = LeakyReLU()(conv3)\n",
        "  conv3 = Conv2D(64, 1, activation='relu', padding='same', kernel_initializer='he_normal', name='conv3_1')(activ3)\n",
        "  activ3 = LeakyReLU()(conv3)\n",
        "  pool3 = AveragePooling2D(pool_size=(2,2), strides=2, name='pool3')(activ3)\n",
        "\n",
        "  conv4 = Conv2D(128, 1, padding='same', kernel_initializer='he_normal', name='conv4')(pool3)\n",
        "  activ4 = LeakyReLU()(conv4)\n",
        "  conv4 = Conv2D(128, 1, padding='same', kernel_initializer='he_normal', name='conv4_1')(activ4)\n",
        "  activ4 = LeakyReLU()(conv4)\n",
        "  pool4 = AveragePooling2D(pool_size=(2,2), strides=2, name='pool4')(activ4)\n",
        "\n",
        "  conv5 = Conv2D(256, 1, padding='same', kernel_initializer='he_normal', name='conv5')(pool4)\n",
        "  activ5 = LeakyReLU()(conv5)\n",
        "  conv5 = Conv2D(256, 1, padding='same', kernel_initializer='he_normal', name='conv5_1')(activ5)\n",
        "  activ5 = LeakyReLU()(conv5)\n",
        "  pool5 = AveragePooling2D(pool_size=(2,2), strides=2, name='pool5')(activ5)\n",
        "\n",
        "  ###### VGG Concat ######\n",
        "  conv_style = Conv2D(2048, 1, padding='same', kernel_initializer='he_normal', name='conv_style')(pool5)\n",
        "  normalise = BatchNormalization()(conv_style)\n",
        "  # print(conv6.shape)\n",
        "  # activ_style = LeakyReLU()(normalise)\n",
        "  style_hint = tf.keras.layers.Add()([conv_style, global_style_hint_dense])\n",
        "  activ_style_1 = LeakyReLU()(style_hint)\n",
        "  # style_hint = tf.math.add(conv_style, global_style_hint_dense_reshape)\n",
        "  # style_hint = conv_style.add(global_style_hint_dense_reshape)\n",
        "  # merge_style = \n",
        "\n",
        "  ###### decoder1 ########\n",
        "  decoder1_1 = Conv2D(512, 1, padding='same', kernel_initializer='he_normal')(activ5)\n",
        "  activ_decoder1_1 = LeakyReLU()(decoder1_1)\n",
        "  decoder1_2 = Conv2D(256, 1, padding='same', kernel_initializer='he_normal')((UpSampling2D(size=(2,2))(activ_decoder1_1)))\n",
        "  activ_decoder1_2 = LeakyReLU()(decoder1_2)\n",
        "  decoder1_3 = Conv2D(128, 1, padding='same', kernel_initializer='he_normal')((UpSampling2D(size=(2,2))(activ_decoder1_2)))\n",
        "  activ_decoder1_3 = LeakyReLU()(decoder1_3)\n",
        "  decoder1_4 = Conv2D(64, 1, padding='same', kernel_initializer='he_normal')((UpSampling2D(size=(2,2))(activ_decoder1_3)))\n",
        "  activ_decoder1_4 = LeakyReLU()(decoder1_4)\n",
        "  decoder1_5 = Conv2D(32, 1, padding='same', kernel_initializer='he_normal')((UpSampling2D(size=(2,2))(activ_decoder1_4)))\n",
        "  activ_decoder1_6 = LeakyReLU()(decoder1_5)\n",
        "\n",
        "  decoder1_output = Conv2D(1, 1, activation='linear')(activ_decoder1_6)\n",
        "\n",
        "\n",
        "\n",
        "  ##### U-net decoder ######\n",
        "  conv6 = Conv2D(512, 1, padding='same', kernel_initializer='he_normal')((UpSampling2D(size=(2,2))(activ_style_1)))\n",
        "  activ6_1= LeakyReLU()(conv6)\n",
        "  conv6 = Conv2D(512, 1, padding='same', kernel_initializer='he_normal')(activ6_1)\n",
        "  activ6= LeakyReLU()(conv6)\n",
        "  merge6 = tf.keras.layers.concatenate([conv5, activ6], axis=3)\n",
        "\n",
        "  conv7 = Conv2D(128, 1, padding='same', kernel_initializer='he_normal', name='Unet_decoder1')((UpSampling2D(size=(2,2))(merge6)))\n",
        "  activ7= LeakyReLU()(conv7)\n",
        "  conv7 = Conv2D(128, 1, activation='relu', padding='same', kernel_initializer='he_normal')(activ7)\n",
        "  activ7= LeakyReLU()(conv7)\n",
        "  merge7 = tf.keras.layers.concatenate([pool3, activ7], axis=3)\n",
        "\n",
        "  conv8 = Conv2D(64, 1, activation='relu', padding='same', kernel_initializer='he_normal')((UpSampling2D(size=(2,2))(merge7)))\n",
        "  activ8= LeakyReLU()(conv8)\n",
        "  conv8 = Conv2D(64, 1, activation='relu', padding='same', kernel_initializer='he_normal')(activ8)\n",
        "  activ8= LeakyReLU()(conv8)\n",
        "  merge8 = tf.keras.layers.concatenate([pool2, activ8], axis=3)\n",
        "\n",
        "  conv9 = Conv2D(32, 1, padding='same', kernel_initializer='he_normal')((UpSampling2D(size=(2,2))(merge8)))\n",
        "  activ9= LeakyReLU()(conv9)\n",
        "  conv9 = Conv2D(32, 1, padding='same', kernel_initializer='he_normal')(conv9)\n",
        "  activ9= LeakyReLU()(conv9)\n",
        "  merge9 = tf.keras.layers.concatenate([pool1, activ9], axis=3)\n",
        "\n",
        "  conv10 = Conv2D(16, 1, padding='same', kernel_initializer='he_normal')((UpSampling2D(size=(2,2))(merge9)))\n",
        "  activ10= LeakyReLU()(conv10)\n",
        "  conv10 = Conv2D(16, 1, padding='same', kernel_initializer='he_normal')(activ10)\n",
        "  activ10= LeakyReLU()(conv10)\n",
        "  final_output = Conv2D(3, 1, activation='linear')(activ10)\n",
        "\n",
        "\n",
        "  ###### decoder2 #####\n",
        "  decoder2_1 = Conv2D(512, 1, padding='same', kernel_initializer='he_normal')(activ6_1)\n",
        "  activ_decoder2_1 = LeakyReLU()(decoder2_1)\n",
        "  decoder2_2 = Conv2D(256, 1, padding='same', kernel_initializer='he_normal')((UpSampling2D(size=(2,2))(activ_decoder2_1)))\n",
        "  activ_decoder2_2 = LeakyReLU()(decoder2_2)\n",
        "  decoder2_3 = Conv2D(128, 1, padding='same', kernel_initializer='he_normal')((UpSampling2D(size=(2,2))(activ_decoder2_2)))\n",
        "  activ_decoder2_3 = LeakyReLU()(decoder2_3)\n",
        "  decoder2_4 = Conv2D(64, 1, padding='same', kernel_initializer='he_normal')((UpSampling2D(size=(2,2))(activ_decoder2_3)))\n",
        "  activ_decoder2_4 = LeakyReLU()(decoder2_4)\n",
        "  decoder2_5 = Conv2D(32, 1, padding='same', kernel_initializer='he_normal')((UpSampling2D(size=(2,2))(activ_decoder2_4)))\n",
        "  activ_decoder2_5 = LeakyReLU()(decoder2_5)\n",
        "\n",
        "  decoder2_output = Conv2D(3, 1, activation='linear')(activ_decoder2_5)\n",
        "\n",
        "\n",
        "  model = Model([inputs,global_style_hint], [decoder1_output,decoder2_output, final_output])\n",
        "\n",
        "\n",
        "  if (pretrained_weights):\n",
        "    model.load_weights(pretrained_weights)\n",
        "\n",
        "  return model"
      ],
      "execution_count": 0,
      "outputs": []
    },
    {
      "cell_type": "code",
      "metadata": {
        "id": "FzWVqeoTCfq1",
        "colab_type": "code",
        "colab": {}
      },
      "source": [
        "generator_model = generator()\n",
        "# ############ TESTING FEED FORWARD CELL ###################\n",
        "# print(output_test.shape)\n",
        "# output_test = np.reshape(output_test, (1, 1, 1, 4096))\n",
        "# image = PIL.Image.open('/content/test.jpg')\n",
        "# image = image.resize((256,256))\n",
        "# noise = np.array(image)\n",
        "# noise = np.reshape(noise, (1, 256, 256, 1))\n",
        "# noise = (noise - 127.5) / 127.5\n",
        "\n",
        "# for layers in generator_model.output:\n",
        "#   print(layers.name,\"%%%%\", type(layers))\n",
        "\n",
        "\n",
        "\n",
        "# # noise = np.array([noise])\n",
        "# generated_image = generator_model([noise, output_test])\n",
        "# decoder1 = generated_image[0]\n",
        "# decoder2 = generated_image[1]\n",
        "# final_output = generated_image[2]\n",
        "# print(final_output.shape)\n",
        "# # plt.imshow(noise[0, :, :, 0], cmap='gray')\n",
        "# # plt.imshow(decoder2[0, :, :, :])\n",
        "# # plt.imshow(final_output[0, :, :, :])\n",
        "# # plt.imshow(decoder1[0, :, :, 0],cmap='gray')"
      ],
      "execution_count": 0,
      "outputs": []
    },
    {
      "cell_type": "code",
      "metadata": {
        "id": "UUnqAbMWzUje",
        "colab_type": "code",
        "outputId": "62bdfebf-1046-4908-ae80-50c52a06975f",
        "colab": {
          "base_uri": "https://localhost:8080/",
          "height": 1000
        }
      },
      "source": [
        "######## MODEL GRAPH ############\n",
        "tf.keras.utils.plot_model(\n",
        "    generator_model, to_file='model.png', show_shapes=False, show_layer_names=True,\n",
        "    rankdir='TB', expand_nested=False, dpi=96\n",
        ")\n",
        "\n",
        "print(generator_model.summary())"
      ],
      "execution_count": 8,
      "outputs": [
        {
          "output_type": "stream",
          "text": [
            "Model: \"model_1\"\n",
            "__________________________________________________________________________________________________\n",
            "Layer (type)                    Output Shape         Param #     Connected to                     \n",
            "==================================================================================================\n",
            "main_input (InputLayer)         [(None, 256, 256, 1) 0                                            \n",
            "__________________________________________________________________________________________________\n",
            "conv1 (Conv2D)                  (None, 256, 256, 16) 32          main_input[0][0]                 \n",
            "__________________________________________________________________________________________________\n",
            "leaky_re_lu (LeakyReLU)         (None, 256, 256, 16) 0           conv1[0][0]                      \n",
            "__________________________________________________________________________________________________\n",
            "conv1_1 (Conv2D)                (None, 256, 256, 16) 272         leaky_re_lu[0][0]                \n",
            "__________________________________________________________________________________________________\n",
            "leaky_re_lu_1 (LeakyReLU)       (None, 256, 256, 16) 0           conv1_1[0][0]                    \n",
            "__________________________________________________________________________________________________\n",
            "pool1 (AveragePooling2D)        (None, 128, 128, 16) 0           leaky_re_lu_1[0][0]              \n",
            "__________________________________________________________________________________________________\n",
            "conv2 (Conv2D)                  (None, 128, 128, 32) 544         pool1[0][0]                      \n",
            "__________________________________________________________________________________________________\n",
            "leaky_re_lu_2 (LeakyReLU)       (None, 128, 128, 32) 0           conv2[0][0]                      \n",
            "__________________________________________________________________________________________________\n",
            "conv2_1 (Conv2D)                (None, 128, 128, 32) 1056        leaky_re_lu_2[0][0]              \n",
            "__________________________________________________________________________________________________\n",
            "leaky_re_lu_3 (LeakyReLU)       (None, 128, 128, 32) 0           conv2_1[0][0]                    \n",
            "__________________________________________________________________________________________________\n",
            "pool2 (AveragePooling2D)        (None, 64, 64, 32)   0           leaky_re_lu_3[0][0]              \n",
            "__________________________________________________________________________________________________\n",
            "conv3 (Conv2D)                  (None, 64, 64, 64)   2112        pool2[0][0]                      \n",
            "__________________________________________________________________________________________________\n",
            "leaky_re_lu_4 (LeakyReLU)       (None, 64, 64, 64)   0           conv3[0][0]                      \n",
            "__________________________________________________________________________________________________\n",
            "conv3_1 (Conv2D)                (None, 64, 64, 64)   4160        leaky_re_lu_4[0][0]              \n",
            "__________________________________________________________________________________________________\n",
            "leaky_re_lu_5 (LeakyReLU)       (None, 64, 64, 64)   0           conv3_1[0][0]                    \n",
            "__________________________________________________________________________________________________\n",
            "pool3 (AveragePooling2D)        (None, 32, 32, 64)   0           leaky_re_lu_5[0][0]              \n",
            "__________________________________________________________________________________________________\n",
            "conv4 (Conv2D)                  (None, 32, 32, 128)  8320        pool3[0][0]                      \n",
            "__________________________________________________________________________________________________\n",
            "leaky_re_lu_6 (LeakyReLU)       (None, 32, 32, 128)  0           conv4[0][0]                      \n",
            "__________________________________________________________________________________________________\n",
            "conv4_1 (Conv2D)                (None, 32, 32, 128)  16512       leaky_re_lu_6[0][0]              \n",
            "__________________________________________________________________________________________________\n",
            "leaky_re_lu_7 (LeakyReLU)       (None, 32, 32, 128)  0           conv4_1[0][0]                    \n",
            "__________________________________________________________________________________________________\n",
            "pool4 (AveragePooling2D)        (None, 16, 16, 128)  0           leaky_re_lu_7[0][0]              \n",
            "__________________________________________________________________________________________________\n",
            "conv5 (Conv2D)                  (None, 16, 16, 256)  33024       pool4[0][0]                      \n",
            "__________________________________________________________________________________________________\n",
            "leaky_re_lu_8 (LeakyReLU)       (None, 16, 16, 256)  0           conv5[0][0]                      \n",
            "__________________________________________________________________________________________________\n",
            "conv5_1 (Conv2D)                (None, 16, 16, 256)  65792       leaky_re_lu_8[0][0]              \n",
            "__________________________________________________________________________________________________\n",
            "leaky_re_lu_9 (LeakyReLU)       (None, 16, 16, 256)  0           conv5_1[0][0]                    \n",
            "__________________________________________________________________________________________________\n",
            "pool5 (AveragePooling2D)        (None, 8, 8, 256)    0           leaky_re_lu_9[0][0]              \n",
            "__________________________________________________________________________________________________\n",
            "style_input (InputLayer)        [(None, 1, 1, 4096)] 0                                            \n",
            "__________________________________________________________________________________________________\n",
            "conv_style (Conv2D)             (None, 8, 8, 2048)   526336      pool5[0][0]                      \n",
            "__________________________________________________________________________________________________\n",
            "dense_style (Dense)             (None, 1, 1, 2048)   8390656     style_input[0][0]                \n",
            "__________________________________________________________________________________________________\n",
            "add (Add)                       (None, 8, 8, 2048)   0           conv_style[0][0]                 \n",
            "                                                                 dense_style[0][0]                \n",
            "__________________________________________________________________________________________________\n",
            "leaky_re_lu_10 (LeakyReLU)      (None, 8, 8, 2048)   0           add[0][0]                        \n",
            "__________________________________________________________________________________________________\n",
            "up_sampling2d_4 (UpSampling2D)  (None, 16, 16, 2048) 0           leaky_re_lu_10[0][0]             \n",
            "__________________________________________________________________________________________________\n",
            "conv2d_6 (Conv2D)               (None, 16, 16, 512)  1049088     up_sampling2d_4[0][0]            \n",
            "__________________________________________________________________________________________________\n",
            "leaky_re_lu_16 (LeakyReLU)      (None, 16, 16, 512)  0           conv2d_6[0][0]                   \n",
            "__________________________________________________________________________________________________\n",
            "conv2d_7 (Conv2D)               (None, 16, 16, 512)  262656      leaky_re_lu_16[0][0]             \n",
            "__________________________________________________________________________________________________\n",
            "leaky_re_lu_17 (LeakyReLU)      (None, 16, 16, 512)  0           conv2d_7[0][0]                   \n",
            "__________________________________________________________________________________________________\n",
            "concatenate (Concatenate)       (None, 16, 16, 768)  0           conv5_1[0][0]                    \n",
            "                                                                 leaky_re_lu_17[0][0]             \n",
            "__________________________________________________________________________________________________\n",
            "up_sampling2d_5 (UpSampling2D)  (None, 32, 32, 768)  0           concatenate[0][0]                \n",
            "__________________________________________________________________________________________________\n",
            "Unet_decoder1 (Conv2D)          (None, 32, 32, 128)  98432       up_sampling2d_5[0][0]            \n",
            "__________________________________________________________________________________________________\n",
            "leaky_re_lu_18 (LeakyReLU)      (None, 32, 32, 128)  0           Unet_decoder1[0][0]              \n",
            "__________________________________________________________________________________________________\n",
            "conv2d_8 (Conv2D)               (None, 32, 32, 128)  16512       leaky_re_lu_18[0][0]             \n",
            "__________________________________________________________________________________________________\n",
            "leaky_re_lu_19 (LeakyReLU)      (None, 32, 32, 128)  0           conv2d_8[0][0]                   \n",
            "__________________________________________________________________________________________________\n",
            "concatenate_1 (Concatenate)     (None, 32, 32, 192)  0           pool3[0][0]                      \n",
            "                                                                 leaky_re_lu_19[0][0]             \n",
            "__________________________________________________________________________________________________\n",
            "up_sampling2d_6 (UpSampling2D)  (None, 64, 64, 192)  0           concatenate_1[0][0]              \n",
            "__________________________________________________________________________________________________\n",
            "conv2d_9 (Conv2D)               (None, 64, 64, 64)   12352       up_sampling2d_6[0][0]            \n",
            "__________________________________________________________________________________________________\n",
            "conv2d (Conv2D)                 (None, 16, 16, 512)  131584      leaky_re_lu_9[0][0]              \n",
            "__________________________________________________________________________________________________\n",
            "conv2d_16 (Conv2D)              (None, 16, 16, 512)  262656      leaky_re_lu_16[0][0]             \n",
            "__________________________________________________________________________________________________\n",
            "leaky_re_lu_20 (LeakyReLU)      (None, 64, 64, 64)   0           conv2d_9[0][0]                   \n",
            "__________________________________________________________________________________________________\n",
            "leaky_re_lu_11 (LeakyReLU)      (None, 16, 16, 512)  0           conv2d[0][0]                     \n",
            "__________________________________________________________________________________________________\n",
            "leaky_re_lu_26 (LeakyReLU)      (None, 16, 16, 512)  0           conv2d_16[0][0]                  \n",
            "__________________________________________________________________________________________________\n",
            "conv2d_10 (Conv2D)              (None, 64, 64, 64)   4160        leaky_re_lu_20[0][0]             \n",
            "__________________________________________________________________________________________________\n",
            "up_sampling2d (UpSampling2D)    (None, 32, 32, 512)  0           leaky_re_lu_11[0][0]             \n",
            "__________________________________________________________________________________________________\n",
            "up_sampling2d_9 (UpSampling2D)  (None, 32, 32, 512)  0           leaky_re_lu_26[0][0]             \n",
            "__________________________________________________________________________________________________\n",
            "leaky_re_lu_21 (LeakyReLU)      (None, 64, 64, 64)   0           conv2d_10[0][0]                  \n",
            "__________________________________________________________________________________________________\n",
            "conv2d_1 (Conv2D)               (None, 32, 32, 256)  131328      up_sampling2d[0][0]              \n",
            "__________________________________________________________________________________________________\n",
            "conv2d_17 (Conv2D)              (None, 32, 32, 256)  131328      up_sampling2d_9[0][0]            \n",
            "__________________________________________________________________________________________________\n",
            "concatenate_2 (Concatenate)     (None, 64, 64, 96)   0           pool2[0][0]                      \n",
            "                                                                 leaky_re_lu_21[0][0]             \n",
            "__________________________________________________________________________________________________\n",
            "leaky_re_lu_12 (LeakyReLU)      (None, 32, 32, 256)  0           conv2d_1[0][0]                   \n",
            "__________________________________________________________________________________________________\n",
            "leaky_re_lu_27 (LeakyReLU)      (None, 32, 32, 256)  0           conv2d_17[0][0]                  \n",
            "__________________________________________________________________________________________________\n",
            "up_sampling2d_7 (UpSampling2D)  (None, 128, 128, 96) 0           concatenate_2[0][0]              \n",
            "__________________________________________________________________________________________________\n",
            "up_sampling2d_1 (UpSampling2D)  (None, 64, 64, 256)  0           leaky_re_lu_12[0][0]             \n",
            "__________________________________________________________________________________________________\n",
            "up_sampling2d_10 (UpSampling2D) (None, 64, 64, 256)  0           leaky_re_lu_27[0][0]             \n",
            "__________________________________________________________________________________________________\n",
            "conv2d_11 (Conv2D)              (None, 128, 128, 32) 3104        up_sampling2d_7[0][0]            \n",
            "__________________________________________________________________________________________________\n",
            "conv2d_2 (Conv2D)               (None, 64, 64, 128)  32896       up_sampling2d_1[0][0]            \n",
            "__________________________________________________________________________________________________\n",
            "conv2d_18 (Conv2D)              (None, 64, 64, 128)  32896       up_sampling2d_10[0][0]           \n",
            "__________________________________________________________________________________________________\n",
            "conv2d_12 (Conv2D)              (None, 128, 128, 32) 1056        conv2d_11[0][0]                  \n",
            "__________________________________________________________________________________________________\n",
            "leaky_re_lu_13 (LeakyReLU)      (None, 64, 64, 128)  0           conv2d_2[0][0]                   \n",
            "__________________________________________________________________________________________________\n",
            "leaky_re_lu_28 (LeakyReLU)      (None, 64, 64, 128)  0           conv2d_18[0][0]                  \n",
            "__________________________________________________________________________________________________\n",
            "leaky_re_lu_23 (LeakyReLU)      (None, 128, 128, 32) 0           conv2d_12[0][0]                  \n",
            "__________________________________________________________________________________________________\n",
            "up_sampling2d_2 (UpSampling2D)  (None, 128, 128, 128 0           leaky_re_lu_13[0][0]             \n",
            "__________________________________________________________________________________________________\n",
            "up_sampling2d_11 (UpSampling2D) (None, 128, 128, 128 0           leaky_re_lu_28[0][0]             \n",
            "__________________________________________________________________________________________________\n",
            "concatenate_3 (Concatenate)     (None, 128, 128, 48) 0           pool1[0][0]                      \n",
            "                                                                 leaky_re_lu_23[0][0]             \n",
            "__________________________________________________________________________________________________\n",
            "conv2d_3 (Conv2D)               (None, 128, 128, 64) 8256        up_sampling2d_2[0][0]            \n",
            "__________________________________________________________________________________________________\n",
            "conv2d_19 (Conv2D)              (None, 128, 128, 64) 8256        up_sampling2d_11[0][0]           \n",
            "__________________________________________________________________________________________________\n",
            "up_sampling2d_8 (UpSampling2D)  (None, 256, 256, 48) 0           concatenate_3[0][0]              \n",
            "__________________________________________________________________________________________________\n",
            "leaky_re_lu_14 (LeakyReLU)      (None, 128, 128, 64) 0           conv2d_3[0][0]                   \n",
            "__________________________________________________________________________________________________\n",
            "leaky_re_lu_29 (LeakyReLU)      (None, 128, 128, 64) 0           conv2d_19[0][0]                  \n",
            "__________________________________________________________________________________________________\n",
            "conv2d_13 (Conv2D)              (None, 256, 256, 16) 784         up_sampling2d_8[0][0]            \n",
            "__________________________________________________________________________________________________\n",
            "up_sampling2d_3 (UpSampling2D)  (None, 256, 256, 64) 0           leaky_re_lu_14[0][0]             \n",
            "__________________________________________________________________________________________________\n",
            "up_sampling2d_12 (UpSampling2D) (None, 256, 256, 64) 0           leaky_re_lu_29[0][0]             \n",
            "__________________________________________________________________________________________________\n",
            "leaky_re_lu_24 (LeakyReLU)      (None, 256, 256, 16) 0           conv2d_13[0][0]                  \n",
            "__________________________________________________________________________________________________\n",
            "conv2d_4 (Conv2D)               (None, 256, 256, 32) 2080        up_sampling2d_3[0][0]            \n",
            "__________________________________________________________________________________________________\n",
            "conv2d_20 (Conv2D)              (None, 256, 256, 32) 2080        up_sampling2d_12[0][0]           \n",
            "__________________________________________________________________________________________________\n",
            "conv2d_14 (Conv2D)              (None, 256, 256, 16) 272         leaky_re_lu_24[0][0]             \n",
            "__________________________________________________________________________________________________\n",
            "leaky_re_lu_15 (LeakyReLU)      (None, 256, 256, 32) 0           conv2d_4[0][0]                   \n",
            "__________________________________________________________________________________________________\n",
            "leaky_re_lu_30 (LeakyReLU)      (None, 256, 256, 32) 0           conv2d_20[0][0]                  \n",
            "__________________________________________________________________________________________________\n",
            "leaky_re_lu_25 (LeakyReLU)      (None, 256, 256, 16) 0           conv2d_14[0][0]                  \n",
            "__________________________________________________________________________________________________\n",
            "conv2d_5 (Conv2D)               (None, 256, 256, 1)  33          leaky_re_lu_15[0][0]             \n",
            "__________________________________________________________________________________________________\n",
            "conv2d_21 (Conv2D)              (None, 256, 256, 3)  99          leaky_re_lu_30[0][0]             \n",
            "__________________________________________________________________________________________________\n",
            "conv2d_15 (Conv2D)              (None, 256, 256, 3)  51          leaky_re_lu_25[0][0]             \n",
            "==================================================================================================\n",
            "Total params: 11,240,775\n",
            "Trainable params: 11,240,775\n",
            "Non-trainable params: 0\n",
            "__________________________________________________________________________________________________\n",
            "None\n"
          ],
          "name": "stdout"
        }
      ]
    },
    {
      "cell_type": "code",
      "metadata": {
        "id": "2YPvil4ZC_nM",
        "colab_type": "code",
        "colab": {}
      },
      "source": [
        "def discriminator(vgg_style=(1, 1, 4096)):\n",
        "  inputs = Input(vgg_style)\n",
        "  output_dense = Dense(2048, name='dense_style')(inputs)\n",
        "  style_output = Dense(2048, name='style_output')(output_dense)\n",
        "  content_output = Dense(1, name='content_output')(output_dense)\n",
        "  model = Model(inputs, [style_output, content_output])\n",
        "\n",
        "  return model\n"
      ],
      "execution_count": 0,
      "outputs": []
    },
    {
      "cell_type": "code",
      "metadata": {
        "id": "qMh4Wov9Z3HQ",
        "colab_type": "code",
        "outputId": "2f73acf0-e04c-4b2f-95df-db011560bd07",
        "colab": {
          "base_uri": "https://localhost:8080/",
          "height": 34
        }
      },
      "source": [
        "discriminator_model = discriminator()\n",
        "# generator_model.compile(optimizer='rmsprop',\n",
        "#               loss={'final_output': 'binary_crossentropy', 'decoder1_output': 'mean_squared_error', 'decoder2_output': 'mean_squared_error'},\n",
        "#               loss_weights={'final_output': 1., 'decoder1_output': 0.3, 'decoder2_output': 0.9})\n",
        "print(discriminator_model.input_shape)"
      ],
      "execution_count": 10,
      "outputs": [
        {
          "output_type": "stream",
          "text": [
            "(None, 1, 1, 4096)\n"
          ],
          "name": "stdout"
        }
      ]
    },
    {
      "cell_type": "code",
      "metadata": {
        "id": "taND2Zf4e7y5",
        "colab_type": "code",
        "colab": {}
      },
      "source": [
        "cross_entropy = tf.keras.losses.BinaryCrossentropy(from_logits=True)"
      ],
      "execution_count": 0,
      "outputs": []
    },
    {
      "cell_type": "code",
      "metadata": {
        "id": "RjM1vsVHkZVj",
        "colab_type": "code",
        "colab": {}
      },
      "source": [
        "def discriminator_loss(real_output, fake_output, real_style, fake_style):\n",
        "    real_loss = cross_entropy(tf.ones_like(real_output), real_output)\n",
        "    fake_loss = cross_entropy(tf.zeros_like(fake_output), fake_output)\n",
        "    style_loss = tf.keras.losses.mean_squared_error(real_style , fake_style)\n",
        "    total_loss = tf.math.add(real_loss ,fake_loss, style_loss)\n",
        "    return total_loss"
      ],
      "execution_count": 0,
      "outputs": []
    },
    {
      "cell_type": "code",
      "metadata": {
        "id": "kuOlEHmakcOf",
        "colab_type": "code",
        "colab": {}
      },
      "source": [
        "def generator_loss(fake_output, decoder1_output, black_and_white, decoder2_output, real_image, output_gen):\n",
        "  alpha = 0.3\n",
        "  beta = 0.9\n",
        "  decoder1_loss = tf.keras.losses.mean_squared_error(decoder1_output, black_and_white)\n",
        "  decoder2_loss = tf.keras.losses.mean_squared_error(decoder2_output, real_image)\n",
        "  MainLoss = tf.keras.losses.mean_squared_error(output_gen, real_image)\n",
        "  Output_loss = cross_entropy(tf.ones_like(fake_output), fake_output)\n",
        "  # print(decoder1_loss ,decoder2_loss ,Output_loss)\n",
        "  # print(decoder1_loss.shape ,decoder2_loss.shape ,Output_loss.shape)\n",
        "  image_loss = tf.math.add(0.3*decoder1_loss, 0.9*decoder2_loss, MainLoss)\n",
        "  Total_Loss = tf.math.add(image_loss, Output_loss)\n",
        "  return Total_Loss"
      ],
      "execution_count": 0,
      "outputs": []
    },
    {
      "cell_type": "code",
      "metadata": {
        "id": "iJbhserqPIhC",
        "colab_type": "code",
        "colab": {}
      },
      "source": [
        "####### TESTING LOSS WITH SAMPLE INPUT ###########\n",
        "\n",
        "# black_and_white = io.imread('/content/danbooru_2897927_a39fedcea885102ef9781a78d9a9bc45.jpg', as_gray=True)\n",
        "# black_and_white = np.array(resize(black_and_white, (256, 256)), dtype=float)\n",
        "# decoder1_output = PIL.Image.open(\"/content/test.jpg\")\n",
        "# decoder1_output = np.array(decoder1_output.resize((256,256)), dtype=float)\n",
        "# decoder2_output = np.random.randn(256, 256, 3)\n",
        "# real_image = np.array(PIL.Image.open(\"/content/danbooru_2897927_a39fedcea885102ef9781a78d9a9bc45.jpg\").resize((256,256)), dtype=float)\n",
        "\n",
        "# print(black_and_white.shape)\n",
        "# print(decoder1_output.shape)\n",
        "# print(decoder2_output.shape)\n",
        "# print(real_image.shape)\n",
        "# fake_output = np.random.randn(256, 256, 3)\n",
        "# print(fake_output.shape)\n",
        "# loss = generator_loss(fake_output, decoder1_output, black_and_white, decoder2_output, real_image)\n",
        "# print(loss.shape)"
      ],
      "execution_count": 0,
      "outputs": []
    },
    {
      "cell_type": "code",
      "metadata": {
        "id": "-aw-FcMOUtCd",
        "colab_type": "code",
        "colab": {}
      },
      "source": [
        "generator_optimizer = tf.keras.optimizers.Adam(1e-4)\n",
        "discriminator_optimizer = tf.keras.optimizers.Adam(1e-4)"
      ],
      "execution_count": 0,
      "outputs": []
    },
    {
      "cell_type": "code",
      "metadata": {
        "id": "CV9pAN7bf22C",
        "colab_type": "code",
        "colab": {}
      },
      "source": [
        "checkpoint_dir = './training_checkpoints'\n",
        "checkpoint_prefix = os.path.join(checkpoint_dir, \"ckpt\")\n",
        "checkpoint = tf.train.Checkpoint(generator_optimizer=generator_optimizer,\n",
        "                                 discriminator_optimizer=discriminator_optimizer,\n",
        "                                 generator=generator_model,\n",
        "                                 discriminator=discriminator_model)"
      ],
      "execution_count": 0,
      "outputs": []
    },
    {
      "cell_type": "code",
      "metadata": {
        "id": "imNfr2POf4rl",
        "colab_type": "code",
        "colab": {}
      },
      "source": [
        "EPOCHS = 70\n",
        "noise_dim = 100\n",
        "num_examples_to_generate = 1\n",
        "# output_test = np.random.randn(1, 1, 4096)"
      ],
      "execution_count": 0,
      "outputs": []
    },
    {
      "cell_type": "code",
      "metadata": {
        "id": "qsRVjzcrf6w1",
        "colab_type": "code",
        "colab": {}
      },
      "source": [
        "def train_step(batch_bw, batch_edge, batch_colour, resized_colour):\n",
        "  noise = batch_edge\n",
        "  # print(noise.shape)\n",
        "  black_and_white = batch_bw\n",
        "  # black_and_white = tf.cast(black_and_white, tf.float32)\n",
        "  # print(black_and_white.shape)\n",
        "  final_image = batch_colour\n",
        "  # final_image = tf.cast(final_image, tf.float32)\n",
        "  # print(final_image.shape)\n",
        "  # print(\"SOSOSOS\")\n",
        "\n",
        "  # input_style = vgg_model(resized_colour)\n",
        "  \n",
        "  input_style = resized_colour\n",
        "  input_style = tf.reshape(input_style, [8, 1, 1, 4096])\n",
        "\n",
        "  \n",
        "  # input_style = np.array(input_style)\n",
        "  # print(input_style.shape)\n",
        "\n",
        "\n",
        "\n",
        "  with tf.GradientTape() as gen_tape, tf.GradientTape() as disc_tape:\n",
        "\n",
        "    decoder1_output, decoder2_output, final_output = generator_model([noise, input_style], training=True)\n",
        "    \n",
        "    generated_images_resize = tf.image.resize(final_output, (224, 224))\n",
        "    generated_images_style = vgg_model(generated_images_resize)\n",
        "    generated_images_style = tf.reshape(generated_images_style, [8, 1, 1, 4096])\n",
        "\n",
        "    # print(\"gen\")\n",
        "\n",
        "    real_output_style, real_output_content = discriminator_model(input_style, training=True)\n",
        "    fake_output_style, fake_output_content = discriminator_model(generated_images_style, training=True)\n",
        "\n",
        "    # print(\"disc\")\n",
        "\n",
        "    decoder1_output = tf.cast(decoder1_output, tf.float32)\n",
        "    decoder2_output = tf.cast(decoder2_output, tf.float32)\n",
        "    final_image = tf.cast(final_image, tf.float32)\n",
        "\n",
        "    \n",
        "    gen_loss = generator_loss(fake_output_content, decoder1_output, black_and_white, decoder2_output, final_image, final_output)\n",
        "    disc_loss = discriminator_loss(real_output_content, fake_output_content, real_output_style, fake_output_style)\n",
        "\n",
        "  gradients_of_generator = gen_tape.gradient(gen_loss, generator_model.trainable_variables)\n",
        "  gradients_of_discriminator = disc_tape.gradient(disc_loss, discriminator_model.trainable_variables)\n",
        "\n",
        "\n",
        "\n",
        "\n",
        "  generator_optimizer.apply_gradients(zip(gradients_of_generator, generator_model.trainable_variables))\n",
        "  discriminator_optimizer.apply_gradients(zip(gradients_of_discriminator, discriminator_model.trainable_variables))"
      ],
      "execution_count": 0,
      "outputs": []
    },
    {
      "cell_type": "code",
      "metadata": {
        "id": "OqmsWgPGgT47",
        "colab_type": "code",
        "colab": {}
      },
      "source": [
        "def train(batch_bw, batch_edge, batch_colour, resized_colour, epochs):\n",
        "  for epoch in range(epochs):\n",
        "    start = time.time()\n",
        "    for image_batch in zip(batch_bw, batch_edge, batch_colour, resized_colour):\n",
        "      train_step(image_batch[0], image_batch[1], image_batch[2], vgg_model(image_batch[3]))\n",
        "\n",
        "    # Produce images for the GIF as we go\n",
        "    display.clear_output(wait=True)\n",
        "    generate_and_save_images(generator_model,\n",
        "                             epoch + 1,\n",
        "                             [image_batch[1], tf.reshape(vgg_model(image_batch[3]), [8, 1, 1, 4096])])\n",
        "\n",
        "    # Save the model every 15 epochs\n",
        "    if (epoch + 1) % 15 == 0:\n",
        "      checkpoint.save(file_prefix = checkpoint_prefix)\n",
        "\n",
        "    print ('Time for epoch {} is {} sec'.format(epoch + 1, time.time()-start))\n",
        "\n",
        "  # Generate after the final epoch\n",
        "  display.clear_output(wait=True)\n",
        "  generate_and_save_images(generator_model,\n",
        "                           epochs,\n",
        "                           [image_batch[1], tf.reshape(vgg_model(image_batch[3]), [8, 1, 1, 4096])])"
      ],
      "execution_count": 0,
      "outputs": []
    },
    {
      "cell_type": "code",
      "metadata": {
        "id": "Kj1t6_VfgcI0",
        "colab_type": "code",
        "colab": {}
      },
      "source": [
        "def generate_and_save_images(model, epoch, test_input):\n",
        "  predictions = model(test_input)\n",
        "\n",
        "  fig = plt.figure(figsize=(4,4))\n",
        "\n",
        "  for i in range(predictions[2].shape[0]):\n",
        "      plt.subplot(4, 4, i+1)\n",
        "      display_image = cv2.cvtColor(np.array(predictions[2][i, :, :, :]), cv2.COLOR_BGR2RGB)\n",
        "      plt.imshow(display_image.astype(np.uint8))\n",
        "      plt.axis('off')\n",
        "\n",
        "  plt.savefig('image_at_epoch_{:04d}.png'.format(epoch))\n",
        "  plt.show()"
      ],
      "execution_count": 0,
      "outputs": []
    },
    {
      "cell_type": "code",
      "metadata": {
        "id": "yIq3N4S7gpF2",
        "colab_type": "code",
        "colab": {}
      },
      "source": [
        "# black_and_white = np.load('/content/drive/My Drive/Dataset/bandw_dataset_anime.npy')\n",
        "# edges = np.load('/content/drive/My Drive/Dataset/edge_dataset_anime.npy')\n",
        "colour = np.load('/content/drive/My Drive/Dataset/colour_dataset_anime.npy')[:1920]"
      ],
      "execution_count": 0,
      "outputs": []
    },
    {
      "cell_type": "code",
      "metadata": {
        "id": "aY3w_nMrhNkm",
        "colab_type": "code",
        "outputId": "554e56b6-999e-48a6-e1a7-6fcc5f49d718",
        "colab": {
          "base_uri": "https://localhost:8080/",
          "height": 102
        }
      },
      "source": [
        "resized_colour = []\n",
        "for element in colour:\n",
        "  image = cv2.resize(element, (224, 224))\n",
        "  image = np.array(image)\n",
        "  resized_colour.append(image)\n",
        "\n",
        "resized_colour = np.array(resized_colour)\n",
        "print(resized_colour.shape)\n",
        "\n",
        "black_and_white = np.load('/content/drive/My Drive/Dataset/bandw_dataset_anime.npy')[:1920].reshape(1920, 256, 256, 1).astype('float32')\n",
        "black_and_white = black_and_white\n",
        "\n",
        "edges = np.load('/content/drive/My Drive/Dataset/edge_dataset_anime.npy')[:1920].reshape(1920, 256, 256, 1).astype('float32')\n",
        "edges = (edges - 127.5) / 127.5\n",
        "\n",
        "colour = colour.reshape(1920, 256, 256, 3).astype('float32')\n",
        "\n",
        "resized_colour = resized_colour.reshape(1920, 224, 224, 3).astype('float32')\n",
        "resized_colour = (resized_colour)\n",
        "\n",
        "BUFFER_SIZE = 1920\n",
        "BATCH_SIZE = 8\n",
        "batch_bw = tf.data.Dataset.from_tensor_slices(black_and_white).shuffle(BUFFER_SIZE).batch(BATCH_SIZE)\n",
        "batch_edge = tf.data.Dataset.from_tensor_slices(edges).shuffle(BUFFER_SIZE).batch(BATCH_SIZE)\n",
        "batch_colour = tf.data.Dataset.from_tensor_slices(colour).shuffle(BUFFER_SIZE).batch(BATCH_SIZE)\n",
        "resized_colour = tf.data.Dataset.from_tensor_slices(resized_colour).shuffle(BUFFER_SIZE).batch(BATCH_SIZE)\n",
        "\n",
        "print(batch_bw)\n",
        "print(batch_edge)\n",
        "print(batch_colour)\n",
        "print(resized_colour)\n"
      ],
      "execution_count": 51,
      "outputs": [
        {
          "output_type": "stream",
          "text": [
            "(1920, 224, 224, 3)\n",
            "<BatchDataset shapes: (None, 256, 256, 1), types: tf.float32>\n",
            "<BatchDataset shapes: (None, 256, 256, 1), types: tf.float32>\n",
            "<BatchDataset shapes: (None, 256, 256, 3), types: tf.float32>\n",
            "<BatchDataset shapes: (None, 224, 224, 3), types: tf.float32>\n"
          ],
          "name": "stdout"
        }
      ]
    },
    {
      "cell_type": "code",
      "metadata": {
        "id": "4XFP7ZBygfhZ",
        "colab_type": "code",
        "outputId": "0fc03f44-dfd0-4f30-a4ee-48918de3c6f6",
        "colab": {
          "base_uri": "https://localhost:8080/",
          "height": 152
        }
      },
      "source": [
        "tf.compat.v1.logging.set_verbosity(tf.compat.v1.logging.ERROR)\n",
        "train(batch_bw, batch_edge, batch_colour, resized_colour, EPOCHS)"
      ],
      "execution_count": 0,
      "outputs": [
        {
          "output_type": "display_data",
          "data": {
            "image/png": "[encoded data removed]",
            "text/plain": [
              "<Figure size 288x288 with 8 Axes>"
            ]
          },
          "metadata": {
            "tags": [],
            "needs_background": "light"
          }
        },
        {
          "output_type": "stream",
          "text": [
            "Time for epoch 2 is 87.89272403717041 sec\n"
          ],
          "name": "stdout"
        }
      ]
    },
    {
      "cell_type": "code",
      "metadata": {
        "id": "4yn9fUAcL_9X",
        "colab_type": "code",
        "outputId": "1188fd47-0675-4d42-ef7e-355195ef5f81",
        "colab": {
          "base_uri": "https://localhost:8080/",
          "height": 340
        }
      },
      "source": [
        "checkpoint.restore(tf.train.latest_checkpoint(checkpoint_dir))\n",
        "outline = cv2.imread('/content/test.jpg')\n",
        "outline = cv2.cvtColor(outline, cv2.COLOR_BGR2GRAY)\n",
        "outline = cv2.resize(outline, (256, 256))\n",
        "outline = np.array([outline])\n",
        "outline = outline.reshape(1, 256, 256, 1).astype('float32')\n",
        "outline = (outline - 127.5) / 127.5\n",
        "\n",
        "style = cv2.imread('/content/danbooru_2897927_a39fedcea885102ef9781a78d9a9bc45.jpg')\n",
        "style = cv2.resize(style, (224, 224))\n",
        "style = np.array(style)\n",
        "style = style.reshape(1, 224, 224, 3).astype('float32')\n",
        "style = (style - 127.5) / 127.5\n",
        "style = vgg_model(style)\n",
        "style = np.array([style])\n",
        "\n",
        "print(style.shape)\n",
        "prediction = generator_model([outline, style])\n",
        "\n",
        "plt.imshow(prediction[2][0, :, :, :])"
      ],
      "execution_count": 47,
      "outputs": [
        {
          "output_type": "stream",
          "text": [
            "Clipping input data to the valid range for imshow with RGB data ([0..1] for floats or [0..255] for integers).\n"
          ],
          "name": "stderr"
        },
        {
          "output_type": "stream",
          "text": [
            "(1, 1, 4096)\n"
          ],
          "name": "stdout"
        },
        {
          "output_type": "execute_result",
          "data": {
            "text/plain": [
              "<matplotlib.image.AxesImage at 0x7f47460629b0>"
            ]
          },
          "metadata": {
            "tags": []
          },
          "execution_count": 47
        },
        {
          "output_type": "display_data",
          "data": {
            "image/png": "[encoded data removed]",
            "text/plain": [
              "<Figure size 432x288 with 1 Axes>"
            ]
          },
          "metadata": {
            "tags": [],
            "needs_background": "light"
          }
        }
      ]
    },
    {
      "cell_type": "code",
      "metadata": {
        "id": "8auGO3OEYlyp",
        "colab_type": "code",
        "colab": {}
      },
      "source": [
        "plt.imshow(black_and_white[1, :, :, 0],  cmap='gray')"
      ],
      "execution_count": 0,
      "outputs": []
    },
    {
      "cell_type": "code",
      "metadata": {
        "id": "WRgkqzeKkGZK",
        "colab_type": "code",
        "colab": {}
      },
      "source": [
        "plt.imshow(edges[1, :, :, 0],  cmap='gray')"
      ],
      "execution_count": 0,
      "outputs": []
    },
    {
      "cell_type": "code",
      "metadata": {
        "id": "AUuBZ8bdkNoK",
        "colab_type": "code",
        "colab": {}
      },
      "source": [
        "rgb = cv2.cvtColor(colour[1, :, :, :], cv2.COLOR_RGB2BGR)\n",
        "plt.imshow(rgb)"
      ],
      "execution_count": 0,
      "outputs": []
    },
    {
      "cell_type": "code",
      "metadata": {
        "id": "NPGYGkz6kTZ5",
        "colab_type": "code",
        "colab": {}
      },
      "source": [
        "plt.imshow(resized_colour[0, :, :, :])"
      ],
      "execution_count": 0,
      "outputs": []
    },
    {
      "cell_type": "code",
      "metadata": {
        "id": "Pu7oFBIAknDM",
        "colab_type": "code",
        "colab": {
          "base_uri": "https://localhost:8080/",
          "height": 292
        },
        "outputId": "354aa636-04df-4fc7-af77-e78a65dec84e"
      },
      "source": [
        "for image_batch in zip(batch_bw, batch_edge, batch_colour, resized_colour):\n",
        "    pass\n",
        "\n",
        "\n",
        "# plt.imshow(image_batch[0][0, :, :, 0], cmap='gray')\n",
        "# plt.imshow(image_batch[1][0, :, :, 0], cmap='gray')\n",
        "plt.imshow(np.array(image_batch[2][0, :, :, :]))\n",
        "# plt.imshow(np.array(image_batch[3][0, :, :, :]))"
      ],
      "execution_count": 39,
      "outputs": [
        {
          "output_type": "error",
          "ename": "InvalidArgumentError",
          "evalue": "ignored",
          "traceback": [
            "\u001b[0;31m---------------------------------------------------------------------------\u001b[0m",
            "\u001b[0;31mInvalidArgumentError\u001b[0m                      Traceback (most recent call last)",
            "\u001b[0;32m<ipython-input-39-d3284a516d74>\u001b[0m in \u001b[0;36m<module>\u001b[0;34m()\u001b[0m\n\u001b[1;32m      5\u001b[0m \u001b[0;31m# plt.imshow(image_batch[0][0, :, :, 0], cmap='gray')\u001b[0m\u001b[0;34m\u001b[0m\u001b[0;34m\u001b[0m\u001b[0;34m\u001b[0m\u001b[0m\n\u001b[1;32m      6\u001b[0m \u001b[0;31m# plt.imshow(image_batch[1][0, :, :, 0], cmap='gray')\u001b[0m\u001b[0;34m\u001b[0m\u001b[0;34m\u001b[0m\u001b[0;34m\u001b[0m\u001b[0m\n\u001b[0;32m----> 7\u001b[0;31m \u001b[0mplt\u001b[0m\u001b[0;34m.\u001b[0m\u001b[0mimshow\u001b[0m\u001b[0;34m(\u001b[0m\u001b[0mnp\u001b[0m\u001b[0;34m.\u001b[0m\u001b[0marray\u001b[0m\u001b[0;34m(\u001b[0m\u001b[0mimage_batch\u001b[0m\u001b[0;34m[\u001b[0m\u001b[0;36m2\u001b[0m\u001b[0;34m]\u001b[0m\u001b[0;34m[\u001b[0m\u001b[0;36m0\u001b[0m\u001b[0;34m,\u001b[0m \u001b[0;34m:\u001b[0m\u001b[0;34m,\u001b[0m \u001b[0;34m:\u001b[0m\u001b[0;34m,\u001b[0m \u001b[0;34m:\u001b[0m\u001b[0;34m]\u001b[0m\u001b[0;34m)\u001b[0m\u001b[0;34m)\u001b[0m\u001b[0;34m\u001b[0m\u001b[0;34m\u001b[0m\u001b[0m\n\u001b[0m\u001b[1;32m      8\u001b[0m \u001b[0;31m# plt.imshow(np.array(image_batch[3][0, :, :, :]))\u001b[0m\u001b[0;34m\u001b[0m\u001b[0;34m\u001b[0m\u001b[0;34m\u001b[0m\u001b[0m\n",
            "\u001b[0;32m/usr/local/lib/python3.6/dist-packages/tensorflow/python/ops/array_ops.py\u001b[0m in \u001b[0;36m_slice_helper\u001b[0;34m(tensor, slice_spec, var)\u001b[0m\n\u001b[1;32m    982\u001b[0m         \u001b[0mellipsis_mask\u001b[0m\u001b[0;34m=\u001b[0m\u001b[0mellipsis_mask\u001b[0m\u001b[0;34m,\u001b[0m\u001b[0;34m\u001b[0m\u001b[0;34m\u001b[0m\u001b[0m\n\u001b[1;32m    983\u001b[0m         \u001b[0mvar\u001b[0m\u001b[0;34m=\u001b[0m\u001b[0mvar\u001b[0m\u001b[0;34m,\u001b[0m\u001b[0;34m\u001b[0m\u001b[0;34m\u001b[0m\u001b[0m\n\u001b[0;32m--> 984\u001b[0;31m         name=name)\n\u001b[0m\u001b[1;32m    985\u001b[0m \u001b[0;34m\u001b[0m\u001b[0m\n\u001b[1;32m    986\u001b[0m \u001b[0;34m\u001b[0m\u001b[0m\n",
            "\u001b[0;32m/usr/local/lib/python3.6/dist-packages/tensorflow/python/ops/array_ops.py\u001b[0m in \u001b[0;36mstrided_slice\u001b[0;34m(input_, begin, end, strides, begin_mask, end_mask, ellipsis_mask, new_axis_mask, shrink_axis_mask, var, name)\u001b[0m\n\u001b[1;32m   1148\u001b[0m       \u001b[0mellipsis_mask\u001b[0m\u001b[0;34m=\u001b[0m\u001b[0mellipsis_mask\u001b[0m\u001b[0;34m,\u001b[0m\u001b[0;34m\u001b[0m\u001b[0;34m\u001b[0m\u001b[0m\n\u001b[1;32m   1149\u001b[0m       \u001b[0mnew_axis_mask\u001b[0m\u001b[0;34m=\u001b[0m\u001b[0mnew_axis_mask\u001b[0m\u001b[0;34m,\u001b[0m\u001b[0;34m\u001b[0m\u001b[0;34m\u001b[0m\u001b[0m\n\u001b[0;32m-> 1150\u001b[0;31m       shrink_axis_mask=shrink_axis_mask)\n\u001b[0m\u001b[1;32m   1151\u001b[0m \u001b[0;34m\u001b[0m\u001b[0m\n\u001b[1;32m   1152\u001b[0m   \u001b[0mparent_name\u001b[0m \u001b[0;34m=\u001b[0m \u001b[0mname\u001b[0m\u001b[0;34m\u001b[0m\u001b[0;34m\u001b[0m\u001b[0m\n",
            "\u001b[0;32m/usr/local/lib/python3.6/dist-packages/tensorflow/python/ops/gen_array_ops.py\u001b[0m in \u001b[0;36mstrided_slice\u001b[0;34m(input, begin, end, strides, begin_mask, end_mask, ellipsis_mask, new_axis_mask, shrink_axis_mask, name)\u001b[0m\n\u001b[1;32m  10155\u001b[0m         \u001b[0;32mpass\u001b[0m  \u001b[0;31m# Add nodes to the TensorFlow graph.\u001b[0m\u001b[0;34m\u001b[0m\u001b[0;34m\u001b[0m\u001b[0m\n\u001b[1;32m  10156\u001b[0m     \u001b[0;32mexcept\u001b[0m \u001b[0m_core\u001b[0m\u001b[0;34m.\u001b[0m\u001b[0m_NotOkStatusException\u001b[0m \u001b[0;32mas\u001b[0m \u001b[0me\u001b[0m\u001b[0;34m:\u001b[0m\u001b[0;34m\u001b[0m\u001b[0;34m\u001b[0m\u001b[0m\n\u001b[0;32m> 10157\u001b[0;31m       \u001b[0m_ops\u001b[0m\u001b[0;34m.\u001b[0m\u001b[0mraise_from_not_ok_status\u001b[0m\u001b[0;34m(\u001b[0m\u001b[0me\u001b[0m\u001b[0;34m,\u001b[0m \u001b[0mname\u001b[0m\u001b[0;34m)\u001b[0m\u001b[0;34m\u001b[0m\u001b[0;34m\u001b[0m\u001b[0m\n\u001b[0m\u001b[1;32m  10158\u001b[0m   \u001b[0;31m# Add nodes to the TensorFlow graph.\u001b[0m\u001b[0;34m\u001b[0m\u001b[0;34m\u001b[0m\u001b[0;34m\u001b[0m\u001b[0m\n\u001b[1;32m  10159\u001b[0m   \u001b[0;32mif\u001b[0m \u001b[0mbegin_mask\u001b[0m \u001b[0;32mis\u001b[0m \u001b[0;32mNone\u001b[0m\u001b[0;34m:\u001b[0m\u001b[0;34m\u001b[0m\u001b[0;34m\u001b[0m\u001b[0m\n",
            "\u001b[0;32m/usr/local/lib/python3.6/dist-packages/tensorflow/python/framework/ops.py\u001b[0m in \u001b[0;36mraise_from_not_ok_status\u001b[0;34m(e, name)\u001b[0m\n\u001b[1;32m   6651\u001b[0m   \u001b[0mmessage\u001b[0m \u001b[0;34m=\u001b[0m \u001b[0me\u001b[0m\u001b[0;34m.\u001b[0m\u001b[0mmessage\u001b[0m \u001b[0;34m+\u001b[0m \u001b[0;34m(\u001b[0m\u001b[0;34m\" name: \"\u001b[0m \u001b[0;34m+\u001b[0m \u001b[0mname\u001b[0m \u001b[0;32mif\u001b[0m \u001b[0mname\u001b[0m \u001b[0;32mis\u001b[0m \u001b[0;32mnot\u001b[0m \u001b[0;32mNone\u001b[0m \u001b[0;32melse\u001b[0m \u001b[0;34m\"\"\u001b[0m\u001b[0;34m)\u001b[0m\u001b[0;34m\u001b[0m\u001b[0;34m\u001b[0m\u001b[0m\n\u001b[1;32m   6652\u001b[0m   \u001b[0;31m# pylint: disable=protected-access\u001b[0m\u001b[0;34m\u001b[0m\u001b[0;34m\u001b[0m\u001b[0;34m\u001b[0m\u001b[0m\n\u001b[0;32m-> 6653\u001b[0;31m   \u001b[0msix\u001b[0m\u001b[0;34m.\u001b[0m\u001b[0mraise_from\u001b[0m\u001b[0;34m(\u001b[0m\u001b[0mcore\u001b[0m\u001b[0;34m.\u001b[0m\u001b[0m_status_to_exception\u001b[0m\u001b[0;34m(\u001b[0m\u001b[0me\u001b[0m\u001b[0;34m.\u001b[0m\u001b[0mcode\u001b[0m\u001b[0;34m,\u001b[0m \u001b[0mmessage\u001b[0m\u001b[0;34m)\u001b[0m\u001b[0;34m,\u001b[0m \u001b[0;32mNone\u001b[0m\u001b[0;34m)\u001b[0m\u001b[0;34m\u001b[0m\u001b[0;34m\u001b[0m\u001b[0m\n\u001b[0m\u001b[1;32m   6654\u001b[0m   \u001b[0;31m# pylint: enable=protected-access\u001b[0m\u001b[0;34m\u001b[0m\u001b[0;34m\u001b[0m\u001b[0;34m\u001b[0m\u001b[0m\n\u001b[1;32m   6655\u001b[0m \u001b[0;34m\u001b[0m\u001b[0m\n",
            "\u001b[0;32m/usr/local/lib/python3.6/dist-packages/six.py\u001b[0m in \u001b[0;36mraise_from\u001b[0;34m(value, from_value)\u001b[0m\n",
            "\u001b[0;31mInvalidArgumentError\u001b[0m: Index out of range using input dim 3; input has only 3 dims [Op:StridedSlice] name: strided_slice/"
          ]
        }
      ]
    },
    {
      "cell_type": "code",
      "metadata": {
        "id": "2dYi3Rsj3gtB",
        "colab_type": "code",
        "colab": {}
      },
      "source": [
        ""
      ],
      "execution_count": 0,
      "outputs": []
    }
  ]
}